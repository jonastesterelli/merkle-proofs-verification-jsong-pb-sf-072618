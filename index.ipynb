{
 "cells": [
  {
   "cell_type": "markdown",
   "metadata": {},
   "source": [
    "# Verifying a Merkle Root"
   ]
  },
  {
   "cell_type": "markdown",
   "metadata": {},
   "source": [
    "### Try it\n",
    "\n",
    "#### Verify a Merkle Proof\n",
    "Transaction Hash:\n",
    "```\n",
    "e8270fb475763bc8d855cfe45ed98060988c1bdcad2ffc8364f783c98999a208\n",
    "```\n",
    "\n",
    "Index:\n",
    "```\n",
    "6\n",
    "```\n",
    "\n",
    "Merkle Root:\n",
    "```\n",
    "4297fb95a0168b959d1469410c7527da5d6243d99699e7d041b7f3916ba93301\n",
    "```\n",
    "\n",
    "Merkle Proof:\n",
    "```\n",
    "9ed0a5430b5b530822b1ce1b2b9a03d513c888aaa3f028f041bf143efd8c1b92\n",
    "1dc4b438b3a842bcdd46b6ea5a4aac8d66be858b0ba412578027a1f1fe838c51\n",
    "156f3662b07aaa4a0d9762faaa8c18afe4c211ff92eb1eae1952aa66627bbf2e\n",
    "524c93c6dd0874c5fd9e4e57cfe83176e3c2841c973afb4043d225c22cc52983\n",
    "```"
   ]
  },
  {
   "cell_type": "code",
   "execution_count": 2,
   "metadata": {},
   "outputs": [
    {
     "ename": "TypeError",
     "evalue": "can only concatenate list (not \"bytes\") to list",
     "output_type": "error",
     "traceback": [
      "\u001b[0;31m\u001b[0m",
      "\u001b[0;31mTypeError\u001b[0mTraceback (most recent call last)",
      "\u001b[0;32m<ipython-input-2-4cce79e3acdc>\u001b[0m in \u001b[0;36m<module>\u001b[0;34m()\u001b[0m\n\u001b[1;32m     23\u001b[0m         \u001b[0mcurrent\u001b[0m \u001b[0;34m=\u001b[0m \u001b[0mmerkle_parent\u001b[0m\u001b[0;34m(\u001b[0m\u001b[0mproof_hash\u001b[0m\u001b[0;34m,\u001b[0m \u001b[0mcurrent\u001b[0m\u001b[0;34m)\u001b[0m\u001b[0;34m\u001b[0m\u001b[0m\n\u001b[1;32m     24\u001b[0m     \u001b[0;32melse\u001b[0m\u001b[0;34m:\u001b[0m\u001b[0;34m\u001b[0m\u001b[0m\n\u001b[0;32m---> 25\u001b[0;31m         \u001b[0mcurrent\u001b[0m \u001b[0;34m=\u001b[0m \u001b[0mmerkle_parent\u001b[0m\u001b[0;34m(\u001b[0m\u001b[0mcurrent\u001b[0m\u001b[0;34m,\u001b[0m \u001b[0mproof_hash\u001b[0m\u001b[0;34m)\u001b[0m\u001b[0;34m\u001b[0m\u001b[0m\n\u001b[0m\u001b[1;32m     26\u001b[0m     \u001b[0;31m# if current_index is even, proof_hash is on the right\u001b[0m\u001b[0;34m\u001b[0m\u001b[0;34m\u001b[0m\u001b[0m\n\u001b[1;32m     27\u001b[0m     \u001b[0mcurrent_index\u001b[0m \u001b[0;34m//=\u001b[0m \u001b[0;36m2\u001b[0m\u001b[0;34m\u001b[0m\u001b[0m\n",
      "\u001b[0;32m~/merkle-proofs-verification-jsong-pb-sf-072618/helper.py\u001b[0m in \u001b[0;36mmerkle_parent\u001b[0;34m(hash1, hash2)\u001b[0m\n\u001b[1;32m    144\u001b[0m     \u001b[0;34m'''Takes the binary hashes and calculates the double-sha256'''\u001b[0m\u001b[0;34m\u001b[0m\u001b[0m\n\u001b[1;32m    145\u001b[0m     \u001b[0;31m# return the double-sha256 of hash1 + hash2\u001b[0m\u001b[0;34m\u001b[0m\u001b[0;34m\u001b[0m\u001b[0m\n\u001b[0;32m--> 146\u001b[0;31m     \u001b[0;32mreturn\u001b[0m \u001b[0mdouble_sha256\u001b[0m\u001b[0;34m(\u001b[0m\u001b[0mhash1\u001b[0m \u001b[0;34m+\u001b[0m \u001b[0mhash2\u001b[0m\u001b[0;34m)\u001b[0m\u001b[0;34m\u001b[0m\u001b[0m\n\u001b[0m\u001b[1;32m    147\u001b[0m \u001b[0;34m\u001b[0m\u001b[0m\n\u001b[1;32m    148\u001b[0m \u001b[0;34m\u001b[0m\u001b[0m\n",
      "\u001b[0;31mTypeError\u001b[0m: can only concatenate list (not \"bytes\") to list"
     ]
    }
   ],
   "source": [
    "from block import Proof\n",
    "from helper import double_sha256, merkle_root, merkle_path, merkle_parent\n",
    "\n",
    "tx_hash = bytes.fromhex('e8270fb475763bc8d855cfe45ed98060988c1bdcad2ffc8364f783c98999a208')\n",
    "merkle_root = bytes.fromhex('4297fb95a0168b959d1469410c7527da5d6243d99699e7d041b7f3916ba93301')\n",
    "proof_hex_hashes = [\n",
    "    '9ed0a5430b5b530822b1ce1b2b9a03d513c888aaa3f028f041bf143efd8c1b92',\n",
    "    '1dc4b438b3a842bcdd46b6ea5a4aac8d66be858b0ba412578027a1f1fe838c51',\n",
    "    '156f3662b07aaa4a0d9762faaa8c18afe4c211ff92eb1eae1952aa66627bbf2e',\n",
    "    '524c93c6dd0874c5fd9e4e57cfe83176e3c2841c973afb4043d225c22cc52983',\n",
    "]\n",
    "proof_hashes = [bytes.fromhex(x) for x in proof_hex_hashes]\n",
    "index = 6\n",
    "\n",
    "# get the current hash (reverse tx_hash as it needs to be little endian)\n",
    "current = tx_hash[::-1]\n",
    "# initialize the current_index to the index\n",
    "current_index = index\n",
    "# loop through proof hashes\n",
    "for proof_hash in proof_hashes:\n",
    "    # if current_index is odd, proof_hash is on the left\n",
    "    if current_index % 2 == 1:\n",
    "        current = merkle_parent(proof_hash, current)\n",
    "    # if current_index is even, proof_hash is on the right\n",
    "    else:\n",
    "        current = merkle_parent(current, proof_hash)\n",
    "    # update current_index to be integer divide by 2\n",
    "    current_index //= 2\n",
    "# see if the current one reversed is the same as merkle root\n",
    "print(current[::-1] == merkle_root)\n"
   ]
  },
  {
   "cell_type": "markdown",
   "metadata": {},
   "source": [
    "### Test Driven Exercise"
   ]
  },
  {
   "cell_type": "code",
   "execution_count": null,
   "metadata": {},
   "outputs": [],
   "source": [
    "from io import BytesIO\n",
    "from helper import double_sha256, merkle_root, merkle_path, merkle_parent\n",
    "from block import Block, Proof\n",
    "\n",
    "class Proof(Proof):\n",
    "\n",
    "    def verify(self):\n",
    "        '''Returns whether this proof is valid'''\n",
    "        # current hash starts with self.tx_hash, reversed\n",
    "        # initialize the current_index to be the index at at base level\n",
    "        # Loop through proof hashes\n",
    "            # if current_index is odd, proof_hash goes on left\n",
    "                # current hash becomes merkle parent of proof_hash and current\n",
    "            # if current_index is even, proof_hash goes on right\n",
    "                # current hash becomes merkle parent of current and proof_hash\n",
    "            # update the current_index to be integer divide by 2\n",
    "        # if final result reversed is equal to merkle_root, return True\n",
    "        pass"
   ]
  }
 ],
 "metadata": {
  "kernelspec": {
   "display_name": "Python 3",
   "language": "python",
   "name": "python3"
  },
  "language_info": {
   "codemirror_mode": {
    "name": "ipython",
    "version": 3
   },
   "file_extension": ".py",
   "mimetype": "text/x-python",
   "name": "python",
   "nbconvert_exporter": "python",
   "pygments_lexer": "ipython3",
   "version": "3.6.4"
  }
 },
 "nbformat": 4,
 "nbformat_minor": 2
}
